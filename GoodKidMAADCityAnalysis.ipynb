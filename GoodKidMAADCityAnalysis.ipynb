{
 "cells": [
  {
   "cell_type": "markdown",
   "id": "f7d061f4",
   "metadata": {},
   "source": [
    "# Good Kid, M.A.A.D City Lyrics Project"
   ]
  },
  {
   "cell_type": "markdown",
   "id": "0352ad70",
   "metadata": {},
   "source": [
    "## Goal"
   ]
  },
  {
   "cell_type": "markdown",
   "id": "7d8c06d9",
   "metadata": {},
   "source": [
    "The goal of this project is to figure out how many different words are in Kendrick Lamar's album \"Good Kid, M.A.A.D City.\" "
   ]
  },
  {
   "cell_type": "markdown",
   "id": "01ccc4ef",
   "metadata": {},
   "source": [
    "## Getting The Data"
   ]
  },
  {
   "cell_type": "code",
   "execution_count": 3,
   "id": "77a6a316",
   "metadata": {},
   "outputs": [
    {
     "name": "stdout",
     "output_type": "stream",
     "text": [
      "Searching for \"Good Kid, M.A.A.D City\" by Kendrick Lamar...\n",
      "Lyrics_goodkidm.A.A.dcity.json already exists. Overwrite?\n",
      "(y/n): n\n",
      "Skipping file save.\n",
      "\n"
     ]
    }
   ],
   "source": [
    "import lyricsgenius\n",
    "genius = lyricsgenius.Genius(\"5cFw-kku3DHIG8a9tPF_6U7jSrtOwf8rognWHckxjjcfskl2Cf-76XHmH5ab8p8x\")\n",
    "\n",
    "genius.remove_section_headers = True\n",
    "\n",
    "album = genius.search_album(\"Good Kid, M.A.A.D City\", \"Kendrick Lamar\")\n",
    "album.save_lyrics()"
   ]
  },
  {
   "cell_type": "markdown",
   "id": "9e9c47b8",
   "metadata": {},
   "source": [
    "## Analysis Setup"
   ]
  },
  {
   "cell_type": "markdown",
   "id": "bf2c0014",
   "metadata": {},
   "source": [
    "#### Importing the necessary libraries I will use for this project"
   ]
  },
  {
   "cell_type": "code",
   "execution_count": 57,
   "id": "ac0ae985",
   "metadata": {},
   "outputs": [],
   "source": [
    "import re\n",
    "import json\n",
    "import string"
   ]
  },
  {
   "cell_type": "markdown",
   "id": "b694be68",
   "metadata": {},
   "source": [
    "#### Reading in the data"
   ]
  },
  {
   "cell_type": "code",
   "execution_count": 58,
   "id": "3d0fe8be",
   "metadata": {},
   "outputs": [],
   "source": [
    "with open(\"Lyrics_goodkidm.A.A.dcity.json\", \"r\") as json_file:\n",
    "    data = json.load(json_file)"
   ]
  },
  {
   "cell_type": "markdown",
   "id": "da088818",
   "metadata": {},
   "source": [
    "#### Looking at the data"
   ]
  },
  {
   "cell_type": "code",
   "execution_count": 27,
   "id": "a21b64fb",
   "metadata": {
    "scrolled": false
   },
   "outputs": [],
   "source": [
    "# print(json.dumps(data, indent=4, sort_keys=True))"
   ]
  },
  {
   "cell_type": "markdown",
   "id": "ebf9774c",
   "metadata": {},
   "source": [
    "## Data Cleaning"
   ]
  },
  {
   "cell_type": "markdown",
   "id": "4eb77596",
   "metadata": {},
   "source": [
    "In this album there are few bonus tracks and we don't want them we only want the 12 original songs of the album"
   ]
  },
  {
   "cell_type": "code",
   "execution_count": 59,
   "id": "cbac45ce",
   "metadata": {},
   "outputs": [
    {
     "name": "stdout",
     "output_type": "stream",
     "text": [
      "['289 ContributorsTranslationsEspañolTürkçeРусскийFrançaisPortuguêsItalianoSvenskaSherane a.k.a Master Splinter’s Daughter Lyrics\\nLord God, I come to you a sinner\\nAnd I humbly repent for my sins\\nI believe that Jesus is Lord\\nI believe that You raised him from the dead\\nI would ask that Jesus come to my life\\nAnd be my Lord and Savior\\nI receive Jesus to take control of my life\\nAnd that I may live for him from this day forth\\nThank you, Lord Jesus, for saving me with your precious blood\\nIn Jesus\\' name, amen\\n\\nI met her at this house party on El Segundo and Central\\nShe had the credentials of strippers in Atlanta\\nAss came with a hump, from the jump she was a camel\\nI want to ride like Arabians, push an \\'04 Mercedes-Benz\\n\"Hello, my name is Kendrick,\" she said, \"No, you\\'re handsome\"\\nWhispered in my ear, disappeared, then found her dancin\\'\\nCiara had played in the background\\nThe parade music we made had us all wearin\\' shades now, cool\\n\"Where you stay?\" She said, \"Down the street from Dominguez High\"\\nOkay, I know that\\'s borderline Compton or Paramount\\n\"Well, is it Compton?\" \"No,\" she replied\\nThen quickly start battin\\' her eyes\\nI strictly had wanted her thighs around me\\nSeventeen with nothin\\' but pussy stuck on my mental\\nMy motive was rather sinful, \"What you tryna get into?\"\\nShe didn\\'t tell, just gave me her Nextel\\nDropped the number, we chirped the whole summer, and, well\\nThe summer had passed, and now I\\'m likin\\' her\\nConversation we havin\\' probably enticin\\' her\\nWho can imagine? Maybe my actions\\'ll end up wifin\\' her\\nLove or lust, regardless, we\\'ll fuck \\'cause the trife in us\\nIt\\'s deep-rooted, the music of bein\\' young and dumb\\nIs never muted, in fact, it\\'s much louder where I\\'m from\\nWe know a lot \\'bout each other, her mother was a crack addict\\nShe live with her granny and her younger two brothers\\nHer favorite cousin Demetrius is irrepetible\\nFamily history of gangbangin\\' did make me skeptical\\nBut not enough to stop me from gettin\\' a nut\\n\"I wanna come over, what\\'s up?\"\\nThat\\'s what I told her soon as this episode\\nOf Martin go off, I\\'m tryna get off\\nI was in heat like a cactus\\nMy tactics of bein\\' thirsty probably could hurt me\\nBut fuck it, I got some heart\\nGrabbed my mama keys, hopped in the car, then, oh boy\\nSo now I\\'m down Rosecrans in a Caravan\\nPassin\\' Alameda, my gas meter in need of a pump\\nI got enough to get me through the traffic jam\\nAt least I hope, \\'cause my pockets broke as a promise, man\\nI\\'m thinkin\\' \\'bout that sex\\nThinkin\\' \\'bout her thighs or maybe kissin\\' on her neck or maybe what position\\'s next\\nSent a picture of her titties, blowin\\' up my texts\\nI looked at \\'em and almost ran my front bumper into Corvette\\nEnthused by the touch of a woman, she\\'s a masseuse\\nAnd I\\'m a professional pornstar when off the Goose\\nI had a fifth in the trunk like Curtis Jackson for ransom\\nI\\'m hopin\\' to get her loose like an Uncle Luke anthem\\nI\\'m two blocks away, two hundred and fifty feet\\nAnd six steps from where she stay, she wavin\\' me \\'cross the street\\nI pulled up, a smile on my face, and then I see\\nTwo niggas, two black hoodies, I froze as my phone rang\\nYou might also like\\nPlease leave your message for three-two-three\\nRecord your message after the tone\\nKendrick, where you at?\\nDamn, I\\'m sittin\\' here waitin\\' on my van\\nYou told me you was gon\\' be back in fifteen minutes\\nMan, I gotta go up to the county buildin\\', man, these kids ready to eat\\nI\\'m ready to eat, shit\\nI gotta get them food stamps, come on now\\nYou on your way or what?\\nI hope you ain\\'t out there messin\\' with them damn hoodrats out there, shit\\n\\'Specially that lil\\' crazy-ass girl Sherane\\nAnd plus you got school tomorrow\\nYou keep fuckin\\' around in them streets, you ain\\'t gon\\' pass to the next grade\\nEleventh grade\\n(Is that Kendrick on the phone?)\\nYour daddy callin\\' about some damn dominoes (Let me holler at him)\\nHe want to holler at you too, go ahead, Kenny, go\\'n, shit\\nHello? Yak, where my motherfuckin\\' dominoes at?\\n(Kenny), What?\\nI\\'m on his voicemail, damn fool (Oh), shit\\nYak, where my motherfuckin\\' dominoes at?\\nThis the second time I asked you to bring my fuckin\\' dominoes\\nJust give me the damn phone, shit, don\\'t hang up, damn, let me\\nKendrick, when you get this message, man, call me back (Keep losin\\' my goddamn dominoes, we gon\\' have to go in the backyard)\\nI need to know when you gon\\' bring back my damn car (And squab, homie)\\nThis man fussin\\' \\'bout some damn dominoes\\nIt ain\\'t all that serious, fuck, damn dominoes\\nShit, I\\'ma miss my damn appointment, fuck\\nFuck some damn dominoes, nobody wanna hear that\\nNobody wanna hear your ass\\nMatter fact, cut my motherfuckin\\' oldies back on\\nYou killin\\' my motherfuckin\\' vibe147Embed']\n"
     ]
    }
   ],
   "source": [
    "tracks_data = data[\"tracks\"]\n",
    "lyrics = []\n",
    "songs_extracted = 0\n",
    "\n",
    "for track in tracks_data:\n",
    "    lyrics.append(track[\"song\"][\"lyrics\"])\n",
    "    songs_extracted += 1\n",
    "    if songs_extracted == 12:\n",
    "        break\n",
    "\n",
    "        \n",
    "shorten_lyrics = lyrics[:1]\n",
    "print(shorten_lyrics)"
   ]
  },
  {
   "cell_type": "markdown",
   "id": "8c508d8b",
   "metadata": {},
   "source": [
    "Lyrics is a compilation of songs, with each song represented as an individual item within the list. However, certain formatting issues need to be addressed for further analysis:\n",
    "1. The initial sentence at the beginning of each song requires removal.\n",
    "2. At the end of each song, there are three numbers and the word \"Embed,\" which should be omitted.\n",
    "3. Punctuation need to be removed.\n",
    "3. The lyrics should be transformed into lists where each element corresponds to a single word."
   ]
  },
  {
   "cell_type": "markdown",
   "id": "52e887fc",
   "metadata": {},
   "source": [
    "#### Creating a function to remove the first sentence and to trim the last word"
   ]
  },
  {
   "cell_type": "code",
   "execution_count": 60,
   "id": "e6e26f99",
   "metadata": {},
   "outputs": [],
   "source": [
    "def remove_redundant_words(lyrics):\n",
    "    cleaned_lyrics = []\n",
    "    for song_lyrics in lyrics:\n",
    "        first_newline_index = song_lyrics.find('\\n')\n",
    "        cleaned_lyrics.append(song_lyrics[first_newline_index + 1:-8])  \n",
    "    return cleaned_lyrics"
   ]
  },
  {
   "cell_type": "markdown",
   "id": "e6cd0e38",
   "metadata": {},
   "source": [
    "#### Creating a function to remove punctuation"
   ]
  },
  {
   "cell_type": "code",
   "execution_count": 61,
   "id": "ab113176",
   "metadata": {},
   "outputs": [],
   "source": [
    "def remove_punctuation(lyrics_list):\n",
    "    punctuation_to_remove = [',', '.', '/', '?', '(', ')', '–', '!', '*', '…', '\"']\n",
    "    cleaned_lyrics = []\n",
    "    for lyric in lyrics_list:\n",
    "        for p in punctuation_to_remove:\n",
    "            lyric = lyric.replace(p, '')\n",
    "        lyric = lyric.replace('-', ' ')\n",
    "        lyric = lyric.replace(':', ' ')\n",
    "        lyric = lyric.replace('—', ' ')\n",
    "        lyric = lyric.replace('\\u200b', '')\n",
    "        cleaned_lyrics.append(lyric)\n",
    "    return cleaned_lyrics"
   ]
  },
  {
   "cell_type": "markdown",
   "id": "6f4cd478",
   "metadata": {},
   "source": [
    "#### Creating a function to reformat the list into a list of words"
   ]
  },
  {
   "cell_type": "code",
   "execution_count": 62,
   "id": "f0f28491",
   "metadata": {},
   "outputs": [
    {
     "name": "stdout",
     "output_type": "stream",
     "text": [
      "['Lord', 'God', 'I', 'come', 'to', 'you', 'a', 'sinner', 'And', 'I', 'humbly', 'repent', 'for', 'my', 'sins', 'I', 'believe', 'that', 'Jesus', 'is', 'Lord', 'I', 'believe', 'that', 'You', 'raised', 'him', 'from', 'the', 'dead', 'I', 'would', 'ask', 'that', 'Jesus', 'come', 'to', 'my', 'life', 'And', 'be', 'my', 'Lord', 'and', 'Savior', 'I', 'receive', 'Jesus', 'to', 'take', 'control', 'of', 'my', 'life', 'And', 'that', 'I', 'may', 'live', 'for', 'him', 'from', 'this', 'day', 'forth', 'Thank', 'you', 'Lord', 'Jesus', 'for', 'saving', 'me', 'with', 'your', 'precious', 'blood', 'In', \"Jesus'\", 'name', 'amen', 'I', 'met', 'her', 'at', 'this', 'house', 'party', 'on', 'El', 'Segundo', 'and', 'Central', 'She', 'had', 'the', 'credentials', 'of', 'strippers', 'in', 'Atlanta', 'Ass', 'came', 'with', 'a', 'hump', 'from', 'the', 'jump', 'she', 'was', 'a', 'camel', 'I', 'want', 'to', 'ride', 'like', 'Arabians', 'push', 'an', \"'04\", 'Mercedes', 'Benz', 'Hello', 'my', 'name', 'is', 'Kendrick', 'she', 'said', 'No', \"you're\", 'handsome', 'Whispered', 'in', 'my', 'ear', 'disappeared', 'then', 'found', 'her', \"dancin'\", 'Ciara', 'had', 'played', 'in', 'the', 'background', 'The', 'parade']\n"
     ]
    }
   ],
   "source": [
    "def split_text_into_words(text_list):\n",
    "    words_list = []\n",
    "    for text in text_list:\n",
    "        words = re.split(r' |\\n', text)  # Split by space and newline\n",
    "        words_list.extend(word for word in words if word.strip())\n",
    "    return words_list\n",
    "\n",
    "lyrics = remove_redundant_words(lyrics)\n",
    "lyrics = remove_punctuation(lyrics)\n",
    "lyrics = split_text_into_words(lyrics)\n",
    "\n",
    "shorten_lyrics = lyrics[:150]\n",
    "print(shorten_lyrics)"
   ]
  },
  {
   "cell_type": "markdown",
   "id": "dddc9a09",
   "metadata": {},
   "source": [
    "We can see some numbers in the list, we need to understand what are those numbers and then transform them into words"
   ]
  },
  {
   "cell_type": "markdown",
   "id": "4cd4c806",
   "metadata": {},
   "source": [
    "#### Creating a function that find the numbers in the list"
   ]
  },
  {
   "cell_type": "code",
   "execution_count": 12,
   "id": "e9278adf",
   "metadata": {},
   "outputs": [
    {
     "name": "stdout",
     "output_type": "stream",
     "text": [
      "[\"'04\", '1st', '15th', '9', '4', '2', '30', '405', '10', '30', '12', '40', \"20's\", \"20's\", \"'94\", \"'80s\", 'that2', 'Section80', '4', \"5's\", '9', '25', '2Pac', '15']\n",
      "24\n"
     ]
    }
   ],
   "source": [
    "def get_strings_with_numbers(word_list):\n",
    "    pattern = r'\\d'  \n",
    "    strings_with_numbers = [word for word in word_list if re.search(pattern, word)]\n",
    "    return strings_with_numbers\n",
    "\n",
    "numbers_in_lyrics = get_strings_with_numbers(lyrics)\n",
    "print(numbers_in_lyrics)\n",
    "print(len(numbers_in_lyrics))"
   ]
  },
  {
   "cell_type": "markdown",
   "id": "c88c7dd3",
   "metadata": {},
   "source": [
    "#### There are 24 words that contains numbers now let's create a function to modify them to words"
   ]
  },
  {
   "cell_type": "code",
   "execution_count": 44,
   "id": "55a2279e",
   "metadata": {},
   "outputs": [
    {
     "name": "stdout",
     "output_type": "stream",
     "text": [
      "['Lord', 'God', 'I', 'come', 'to', 'you', 'a', 'sinner', 'And', 'I', 'humbly', 'repent', 'for', 'my', 'sins', 'I', 'believe', 'that', 'Jesus', 'is']\n"
     ]
    }
   ],
   "source": [
    "def replace_numeric_strings(words):\n",
    "    num_to_word = {\n",
    "        \"'04\": \"zero four\",\n",
    "        \"1st\": \"first\",\n",
    "        \"15th\": \"fifteenth\",\n",
    "        \"9\": \"nine\",\n",
    "        \"4\": \"four\",\n",
    "        \"2\": \"two\",\n",
    "        \"30\": \"thirty\",\n",
    "        \"405\": \"four zero five\",\n",
    "        \"10\": \"ten\",\n",
    "        \"12\": \"twelve\",\n",
    "        \"40\": \"forty\",\n",
    "        \"20's\": \"twenties\",\n",
    "        \"'94\": \"ninety four\",\n",
    "        \"'80s\": \"eighties\",\n",
    "        \"that2\": \"that two\",\n",
    "        \"Section80\": \"Section eighty\",\n",
    "        \"5's\": \"fives\",\n",
    "        \"25\": \"twenty five\",\n",
    "        \"2Pac\": \"Tupac\",\n",
    "        \"15\": \"fifteen\",\n",
    "    }\n",
    "\n",
    "    replaced_words = []\n",
    "    for word in words:\n",
    "        if word in num_to_word:\n",
    "            replaced_words.extend(num_to_word[word].split())\n",
    "        else:\n",
    "            replaced_words.append(word)\n",
    "\n",
    "    return replaced_words\n",
    "\n",
    "lyrics = replace_numeric_strings(lyrics)\n",
    "\n",
    "shorten_lyrics = lyrics[:150]\n",
    "print(shorten_lyrics)"
   ]
  },
  {
   "cell_type": "markdown",
   "id": "2737cc14",
   "metadata": {},
   "source": [
    "Before we start counting how many different words there are, we need to take care of some slang words. We've noticed a few slang terms like \"thinkin'\" and \"playin'\" that should be changed to their proper forms like \"because\" and \"sleeping.\" To do this, we'll use the nltk and spellchecker libraries to make the necessary adjustments. In addition there are a lot of similar words like go, goes and going which are practicly the same words so we will use WordNetLemmatizer for converting words to their base forms."
   ]
  },
  {
   "cell_type": "code",
   "execution_count": 14,
   "id": "b0b8726c",
   "metadata": {
    "scrolled": true
   },
   "outputs": [
    {
     "name": "stderr",
     "output_type": "stream",
     "text": [
      "[nltk_data] Downloading package punkt to\n",
      "[nltk_data]     C:\\Users\\nirme\\AppData\\Roaming\\nltk_data...\n",
      "[nltk_data]   Package punkt is already up-to-date!\n",
      "[nltk_data] Downloading package words to\n",
      "[nltk_data]     C:\\Users\\nirme\\AppData\\Roaming\\nltk_data...\n",
      "[nltk_data]   Package words is already up-to-date!\n",
      "[nltk_data] Downloading package wordnet to\n",
      "[nltk_data]     C:\\Users\\nirme\\AppData\\Roaming\\nltk_data...\n",
      "[nltk_data]   Package wordnet is already up-to-date!\n"
     ]
    },
    {
     "name": "stdout",
     "output_type": "stream",
     "text": [
      "[(\"i'm\", 145), (\"it's\", 59), (\"don't\", 58), (\"that's\", 41), ('bish', 38), (\"ain't\", 34), ('wanna', 24), ('kendrick', 22), ('homies', 16), (\"i'll\", 14), ('nah', 13), (\"you'll\", 13), ('tryna', 12), ('homie', 12), ('jus', 11), ('doin', 10), ('livin', 9), ('runnin', 9), ('fuckin', 8), ('lookin', 8), ('biatch', 8), ('doo', 7), ('called', 7), (\"what's\", 6), (\"prob'ly\", 6), ('somethin', 6), ('talkin', 6), ('killed', 6), ('nothin', 5), ('motherfuckin', 5), ('gonna', 5), ('feelin', 5), ('finna', 5), ('uh', 5), (\"wasn't\", 5), (\"won't\", 5), ('anytime', 5), ('dave', 5), ('bein', 4), ('thinkin', 4), ('gotta', 4), (\"who's\", 4), (\"y'all\", 4), (\"can't\", 4), ('ol', 4), ('hol', 4), ('ooooh', 4), (\"didn't\", 3), ('pulled', 3), ('waitin', 3), ('callin', 3), ('kenny', 3), ('wifey', 3), (\"i've\", 3), ('goin', 3), ('lamar', 3), ('workin', 3), (\"there's\", 3), (\"he's\", 3), ('fucked', 3), ('bros', 3), ('thang', 3), ('cuz', 3), ('loc', 3), ('baywatch', 3), (\"everything's\", 3), ('dre', 3), ('havin', 2), (\"we'll\", 2), ('louder', 2), ('gettin', 2), ('asked', 2), (\"church's\", 2), (\"couldn't\", 2), ('gonzales', 2), ('doot', 2), ('playin', 2), ('sayin', 2), (\"here's\", 2), ('paula', 2), ('kenneth', 2), ('bloomed', 2), ('walkin', 2), ('shrooms', 2), ('crips', 2), (\"they'd\", 2), ('comin', 2), ('happened', 2), ('tryin', 2), (\"homie's\", 2), ('hating', 2), ('mercedes', 1), ('benz', 1), ('disappeared', 1), ('dancin', 1), ('ciara', 1), ('replied', 1), ('dropped', 1), ('chirped', 1), ('passed', 1)]\n"
     ]
    }
   ],
   "source": [
    "import nltk\n",
    "from nltk.corpus import words, wordnet\n",
    "from nltk.tokenize import RegexpTokenizer\n",
    "from nltk.stem import WordNetLemmatizer\n",
    "from collections import Counter\n",
    "from spellchecker import SpellChecker\n",
    "\n",
    "nltk.download('punkt')\n",
    "nltk.download('words')\n",
    "nltk.download('wordnet')\n",
    "\n",
    "def get_most_common_non_dictionary_words(lyrics, top_n=100):\n",
    "    nltk_words = set(words.words())\n",
    "    wordnet_words = set(wordnet.words())\n",
    "    combined_words = nltk_words.union(wordnet_words)\n",
    "\n",
    "    # Initialize SpellChecker\n",
    "    spell = SpellChecker()\n",
    "\n",
    "    all_non_dictionary_words = []\n",
    "\n",
    "    # Tokenize the lyrics into words\n",
    "    for song in lyrics:\n",
    "        # Custom tokenizer to handle possessives like \"'s\" and remove punctuation\n",
    "        tokenizer = RegexpTokenizer(r\"\\w+(?:'\\w+)?\")\n",
    "        word_tokens = tokenizer.tokenize(song.lower())\n",
    "\n",
    "        # Lemmatize each word to its base form\n",
    "        lemmatizer = WordNetLemmatizer()\n",
    "        base_form_words = [lemmatizer.lemmatize(w) for w in word_tokens]\n",
    "\n",
    "        # Find words that are not in the dictionary\n",
    "        non_dictionary_words = [w for w in base_form_words if w not in combined_words]\n",
    "\n",
    "        # Spell check each word and add valid words to the list\n",
    "        for word in non_dictionary_words:\n",
    "            if spell.correction(word) == word:\n",
    "                all_non_dictionary_words.append(word)\n",
    "\n",
    "    # Count the occurrences of non-dictionary words\n",
    "    non_dictionary_word_counts = Counter(all_non_dictionary_words)\n",
    "\n",
    "    # Get the most common non-dictionary words\n",
    "    most_common_non_dictionary_words = non_dictionary_word_counts.most_common(top_n)\n",
    "\n",
    "    return most_common_non_dictionary_words\n",
    "\n",
    "slang_in_lyrics = get_most_common_non_dictionary_words(lyrics)\n",
    "print(slang_in_lyrics)"
   ]
  },
  {
   "cell_type": "markdown",
   "id": "1b88d446",
   "metadata": {},
   "source": [
    "#### If a word is written in slang so we will change it like 'thinkin' to 'thinking', so it won't count it twice"
   ]
  },
  {
   "cell_type": "code",
   "execution_count": 63,
   "id": "bdda87a2",
   "metadata": {},
   "outputs": [],
   "source": [
    "def replace_slang_with_actual_words(lyrics):\n",
    "    slang_replacements = {\n",
    "        \"thinkin\": \"thinking\",\n",
    "        \"playin\": \"playing\",\n",
    "        \"sayin\": \"saying\",\n",
    "        \"comin\": \"coming\",\n",
    "        \"tryin\": \"trying\",\n",
    "        \"dancin\": \"dancing\",\n",
    "        \"sittin\": \"sitting\",\n",
    "        \"hangin\": \"hanging\"\n",
    "    }\n",
    "    \n",
    "    for slang, replacement in slang_replacements.items():\n",
    "        lyrics = [word.replace(slang, replacement) for word in lyrics]\n",
    "\n",
    "    return lyrics"
   ]
  },
  {
   "cell_type": "code",
   "execution_count": 16,
   "id": "848af912",
   "metadata": {},
   "outputs": [
    {
     "name": "stdout",
     "output_type": "stream",
     "text": [
      "Number of distinct words in Good Kid, M.A.A.D City is: 2078\n"
     ]
    }
   ],
   "source": [
    "distinct_word_count = len(set(word.lower() for word in lyrics))\n",
    "print(\"Number of distinct words in Good Kid, M.A.A.D City is:\", distinct_word_count)"
   ]
  }
 ],
 "metadata": {
  "kernelspec": {
   "display_name": "Python 3 (ipykernel)",
   "language": "python",
   "name": "python3"
  },
  "language_info": {
   "codemirror_mode": {
    "name": "ipython",
    "version": 3
   },
   "file_extension": ".py",
   "mimetype": "text/x-python",
   "name": "python",
   "nbconvert_exporter": "python",
   "pygments_lexer": "ipython3",
   "version": "3.11.3"
  }
 },
 "nbformat": 4,
 "nbformat_minor": 5
}
